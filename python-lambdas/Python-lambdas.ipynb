{
 "cells": [
  {
   "cell_type": "markdown",
   "id": "44188631-cfa4-4b09-b206-b673454a1495",
   "metadata": {},
   "source": [
    "### Modifying sets"
   ]
  },
  {
   "cell_type": "code",
   "execution_count": 1,
   "id": "0ef8f348-df80-445a-816d-24832f55cfcb",
   "metadata": {},
   "outputs": [],
   "source": [
    "# Defining a set\n",
    "set_countries = {'col', 'mex', 'bol'}"
   ]
  },
  {
   "cell_type": "code",
   "execution_count": 2,
   "id": "45cff6e4-f96d-4fa1-8afb-c9ad5ec098e5",
   "metadata": {},
   "outputs": [
    {
     "name": "stdout",
     "output_type": "stream",
     "text": [
      "3\n"
     ]
    }
   ],
   "source": [
    "# Retrieving its size (length)\n",
    "size = len(set_countries)\n",
    "print(size)"
   ]
  },
  {
   "cell_type": "code",
   "execution_count": 3,
   "id": "2da870ad-1563-4591-b4dd-d305adae9b45",
   "metadata": {},
   "outputs": [
    {
     "name": "stdout",
     "output_type": "stream",
     "text": [
      "True\n",
      "False\n"
     ]
    }
   ],
   "source": [
    "# Membership\n",
    "print('col' in set_countries)\n",
    "print('per' in set_countries)"
   ]
  },
  {
   "cell_type": "code",
   "execution_count": 4,
   "id": "94b205cb-5de2-4a5c-bea6-c865655e3d4b",
   "metadata": {},
   "outputs": [],
   "source": [
    "# add\n",
    "set_countries.add('per')"
   ]
  },
  {
   "cell_type": "code",
   "execution_count": 5,
   "id": "31cdfa00-f669-4ca6-ac4d-d5455d8f32ff",
   "metadata": {},
   "outputs": [
    {
     "name": "stdout",
     "output_type": "stream",
     "text": [
      "{'mex', 'per', 'col', 'bol'}\n"
     ]
    }
   ],
   "source": [
    "print(set_countries)"
   ]
  },
  {
   "cell_type": "code",
   "execution_count": 6,
   "id": "834e8335-85b9-4bf6-8eee-2c29ce682bba",
   "metadata": {},
   "outputs": [],
   "source": [
    "# update (works to update with sets, rather than single values)\n",
    "set_countries.update({'arg', 'chi', 'col'})"
   ]
  },
  {
   "cell_type": "code",
   "execution_count": 7,
   "id": "5b4e5332-f8ef-4dd4-b35a-813701a9f7e3",
   "metadata": {},
   "outputs": [
    {
     "name": "stdout",
     "output_type": "stream",
     "text": [
      "{'bol', 'u', 'per', 'a', 'chi', 'mex', 'col', 'arg', 's'}\n"
     ]
    }
   ],
   "source": [
    "set_countries.update('usa')\n",
    "print(set_countries)"
   ]
  },
  {
   "cell_type": "code",
   "execution_count": 8,
   "id": "d8cdc819-412b-4aba-a78f-b59b580bc834",
   "metadata": {},
   "outputs": [
    {
     "name": "stdout",
     "output_type": "stream",
     "text": [
      "{'bol', 'per', 'chi', 'mex', 'col', 'arg'}\n"
     ]
    }
   ],
   "source": [
    "# remove\n",
    "set_countries.remove('u')\n",
    "set_countries.remove('s')\n",
    "set_countries.remove('a')\n",
    "print(set_countries)"
   ]
  },
  {
   "cell_type": "code",
   "execution_count": 9,
   "id": "079b1f96-8869-4c00-b2e2-2679bb972d8e",
   "metadata": {},
   "outputs": [],
   "source": [
    "# discard\n",
    "set_countries.discard('usa')"
   ]
  },
  {
   "cell_type": "code",
   "execution_count": 10,
   "id": "821cbd09-08b3-41f3-b500-140fc7f385f2",
   "metadata": {},
   "outputs": [
    {
     "name": "stdout",
     "output_type": "stream",
     "text": [
      "set()\n"
     ]
    }
   ],
   "source": [
    "# clear the whole set \n",
    "set_countries.clear()\n",
    "print(set_countries)"
   ]
  },
  {
   "cell_type": "markdown",
   "id": "9f886597-5348-4336-b7dd-6959ace7aa23",
   "metadata": {
    "scrolled": true
   },
   "source": [
    "### Operating sets"
   ]
  },
  {
   "cell_type": "code",
   "execution_count": 11,
   "id": "d9d17eb0-c58e-4753-ba7c-895990599356",
   "metadata": {},
   "outputs": [],
   "source": [
    "set_a = {'col', 'bol', 'mex'}\n",
    "set_b = {'per', 'bol'}"
   ]
  },
  {
   "cell_type": "code",
   "execution_count": 12,
   "id": "c8eeba79-2784-4f0d-87f6-f106efbd6b89",
   "metadata": {},
   "outputs": [
    {
     "data": {
      "text/plain": [
       "{'bol', 'col', 'mex', 'per'}"
      ]
     },
     "execution_count": 12,
     "metadata": {},
     "output_type": "execute_result"
    }
   ],
   "source": [
    "# union (logic OR)\n",
    "set_ab_union = set_a.union(set_b)\n",
    "set_ab_union"
   ]
  },
  {
   "cell_type": "code",
   "execution_count": 13,
   "id": "fbab7702-d82c-40db-aded-8d7609e5df44",
   "metadata": {},
   "outputs": [
    {
     "data": {
      "text/plain": [
       "{'bol', 'col', 'mex', 'per'}"
      ]
     },
     "execution_count": 13,
     "metadata": {},
     "output_type": "execute_result"
    }
   ],
   "source": [
    "# arithmetic union\n",
    "set_a | set_b"
   ]
  },
  {
   "cell_type": "code",
   "execution_count": 14,
   "id": "77beed21-c91c-4416-8f53-08b9bf898246",
   "metadata": {},
   "outputs": [
    {
     "data": {
      "text/plain": [
       "{'bol'}"
      ]
     },
     "execution_count": 14,
     "metadata": {},
     "output_type": "execute_result"
    }
   ],
   "source": [
    "# intersection (logic AND)\n",
    "set_ab_inter = set_a.intersection(set_b)\n",
    "set_ab_inter"
   ]
  },
  {
   "cell_type": "code",
   "execution_count": 15,
   "id": "6f850470-ecb2-4a4c-b1d2-e752b9c7f06f",
   "metadata": {},
   "outputs": [
    {
     "data": {
      "text/plain": [
       "{'bol'}"
      ]
     },
     "execution_count": 15,
     "metadata": {},
     "output_type": "execute_result"
    }
   ],
   "source": [
    "# arithmetic intersection\n",
    "set_a & set_b"
   ]
  },
  {
   "cell_type": "code",
   "execution_count": 16,
   "id": "a445ab27-9206-4ea2-8fea-06fc684adcc1",
   "metadata": {},
   "outputs": [
    {
     "data": {
      "text/plain": [
       "{'col', 'mex'}"
      ]
     },
     "execution_count": 16,
     "metadata": {},
     "output_type": "execute_result"
    }
   ],
   "source": [
    "# difference \n",
    "set_ab_diff = set_a.difference(set_b)\n",
    "set_ab_diff"
   ]
  },
  {
   "cell_type": "code",
   "execution_count": 17,
   "id": "e2450259-7852-49b1-be67-431972db3834",
   "metadata": {},
   "outputs": [
    {
     "data": {
      "text/plain": [
       "{'col', 'mex'}"
      ]
     },
     "execution_count": 17,
     "metadata": {},
     "output_type": "execute_result"
    }
   ],
   "source": [
    "# arithmetic difference\n",
    "set_a - set_b"
   ]
  },
  {
   "cell_type": "code",
   "execution_count": 18,
   "id": "035f33e0-8e93-476c-b67f-82f6214cc2a6",
   "metadata": {},
   "outputs": [
    {
     "data": {
      "text/plain": [
       "{'col', 'mex', 'per'}"
      ]
     },
     "execution_count": 18,
     "metadata": {},
     "output_type": "execute_result"
    }
   ],
   "source": [
    "# symmetric difference\n",
    "set_ab_symdiff = set_a.symmetric_difference(set_b)\n",
    "set_ab_symdiff"
   ]
  },
  {
   "cell_type": "code",
   "execution_count": 19,
   "id": "c4246b2b-29a0-4d96-b49a-fe901b3a396d",
   "metadata": {},
   "outputs": [
    {
     "data": {
      "text/plain": [
       "{'col', 'mex', 'per'}"
      ]
     },
     "execution_count": 19,
     "metadata": {},
     "output_type": "execute_result"
    }
   ],
   "source": [
    "# Explained\n",
    "set_ab_symdiff = set_ab_union - set_ab_inter\n",
    "set_ab_symdiff"
   ]
  },
  {
   "cell_type": "code",
   "execution_count": 20,
   "id": "892f8017-3b22-4831-bf19-a3a3ccfff4e1",
   "metadata": {},
   "outputs": [
    {
     "data": {
      "text/plain": [
       "{'col', 'mex', 'per'}"
      ]
     },
     "execution_count": 20,
     "metadata": {},
     "output_type": "execute_result"
    }
   ],
   "source": [
    "# aritmethic symmetric difference\n",
    "set_a ^ set_b"
   ]
  },
  {
   "cell_type": "code",
   "execution_count": 21,
   "id": "564c1c6f-b48a-4061-a319-747e2a77de1e",
   "metadata": {},
   "outputs": [
    {
     "data": {
      "text/plain": [
       "{'bol', 'col', 'mex', 'per'}"
      ]
     },
     "execution_count": 21,
     "metadata": {},
     "output_type": "execute_result"
    }
   ],
   "source": [
    "superset = set_ab_symdiff | set_ab_diff | set_ab_inter | set_ab_union\n",
    "superset"
   ]
  },
  {
   "cell_type": "markdown",
   "id": "2ce8cae6-d0a8-4a7e-972d-75bbd9a5b662",
   "metadata": {},
   "source": [
    "### List comprehension"
   ]
  },
  {
   "cell_type": "code",
   "execution_count": 22,
   "id": "8c651079-bed4-4dd3-bb0e-38fa0ba376a6",
   "metadata": {},
   "outputs": [
    {
     "data": {
      "text/plain": [
       "[1, 2, 3, 4, 5, 6, 7, 8, 9, 10]"
      ]
     },
     "execution_count": 22,
     "metadata": {},
     "output_type": "execute_result"
    }
   ],
   "source": [
    "# Start with squared brackets, we iterate through a list and retrieve a object\n",
    "# The usual way:\n",
    "\n",
    "numbers_a = []\n",
    "for element in range(1, 11):\n",
    "    numbers_a.append(element)\n",
    "\n",
    "numbers_a"
   ]
  },
  {
   "cell_type": "code",
   "execution_count": 23,
   "id": "c25c33d0-41f5-47a3-a111-672b2643e0d1",
   "metadata": {},
   "outputs": [
    {
     "data": {
      "text/plain": [
       "[1, 2, 3, 4, 5, 6, 7, 8, 9, 10]"
      ]
     },
     "execution_count": 23,
     "metadata": {},
     "output_type": "execute_result"
    }
   ],
   "source": [
    "# The comprehensive way\n",
    "\n",
    "numbers_b = [element for element in range(1, 11)]\n",
    "numbers_b"
   ]
  },
  {
   "cell_type": "code",
   "execution_count": 24,
   "id": "5da71b0d-7896-4472-ae47-891f96145583",
   "metadata": {},
   "outputs": [
    {
     "data": {
      "text/plain": [
       "[2, 4, 6, 8, 10, 12, 14, 16, 18, 20]"
      ]
     },
     "execution_count": 24,
     "metadata": {},
     "output_type": "execute_result"
    }
   ],
   "source": [
    "# Operations can also be made within\n",
    "# The usual way:\n",
    "\n",
    "numbers_c = []\n",
    "for element in range (1, 11):\n",
    "    numbers_c.append(element * 2)\n",
    "\n",
    "numbers_c"
   ]
  },
  {
   "cell_type": "code",
   "execution_count": 25,
   "id": "b9cebed6-9897-4c49-a225-33ec1f6e15f3",
   "metadata": {},
   "outputs": [
    {
     "data": {
      "text/plain": [
       "[2, 4, 6, 8, 10, 12, 14, 16, 18, 20]"
      ]
     },
     "execution_count": 25,
     "metadata": {},
     "output_type": "execute_result"
    }
   ],
   "source": [
    "# The comprehensive way\n",
    "\n",
    "numbers_c =[(element * 2) for element in range(1, 11)]\n",
    "numbers_c"
   ]
  },
  {
   "cell_type": "code",
   "execution_count": 26,
   "id": "0e60ae05-cbe3-4904-aa7e-bd82f5c4b8fb",
   "metadata": {},
   "outputs": [
    {
     "data": {
      "text/plain": [
       "[4, 8, 12, 16, 20]"
      ]
     },
     "execution_count": 26,
     "metadata": {},
     "output_type": "execute_result"
    }
   ],
   "source": [
    "# Conditions can also be integrated\n",
    "# The usual way:\n",
    "\n",
    "numbers_d = []\n",
    "for element in range(1, 11):\n",
    "    if element % 2 == 0:\n",
    "        numbers_d.append(element * 2)\n",
    "\n",
    "numbers_d"
   ]
  },
  {
   "cell_type": "code",
   "execution_count": 27,
   "id": "75025425-a158-415d-a9db-ed1032c01335",
   "metadata": {},
   "outputs": [
    {
     "data": {
      "text/plain": [
       "[4, 8, 12, 16, 20]"
      ]
     },
     "execution_count": 27,
     "metadata": {},
     "output_type": "execute_result"
    }
   ],
   "source": [
    "# The comprehensive way\n",
    "\n",
    "numbers_d = [(element * 2) for element in range(1,11) if element % 2 == 0]\n",
    "numbers_d"
   ]
  },
  {
   "cell_type": "markdown",
   "id": "984e3a1e-1fd8-4577-88c3-ff7f8c6482b4",
   "metadata": {},
   "source": [
    "### Dictionary comprehension"
   ]
  },
  {
   "cell_type": "code",
   "execution_count": 28,
   "id": "efebf231-57b3-443b-b85c-6f39105f310b",
   "metadata": {},
   "outputs": [
    {
     "data": {
      "text/plain": [
       "{1: 2, 2: 4, 3: 6, 4: 8, 5: 10, 6: 12, 7: 14, 8: 16, 9: 18, 10: 20}"
      ]
     },
     "execution_count": 28,
     "metadata": {},
     "output_type": "execute_result"
    }
   ],
   "source": [
    "# Start with curly brackets, we iterate through a dictionary and retrieve a key-value pair\n",
    "# The usual way:\n",
    "\n",
    "dict_a = {}\n",
    "for i in range (1, 11):\n",
    "    dict_a[i] = i * 2\n",
    "\n",
    "dict_a"
   ]
  },
  {
   "cell_type": "code",
   "execution_count": 29,
   "id": "c2ef1977-2199-47f0-91be-91efd63957b7",
   "metadata": {},
   "outputs": [
    {
     "data": {
      "text/plain": [
       "{1: 2, 2: 4, 3: 6, 4: 8, 5: 10, 6: 12, 7: 14, 8: 16, 9: 18, 10: 20}"
      ]
     },
     "execution_count": 29,
     "metadata": {},
     "output_type": "execute_result"
    }
   ],
   "source": [
    "# The comprehensive way\n",
    "# be i the key and i * 2 the value as in the example above\n",
    "\n",
    "dict_a = { i: i*2 for i in range(1,11)}\n",
    "dict_a"
   ]
  },
  {
   "cell_type": "code",
   "execution_count": 30,
   "id": "400f6620-abc2-40f2-9f15-bc4b7bbe5fb2",
   "metadata": {},
   "outputs": [
    {
     "data": {
      "text/plain": [
       "{'col': 48, 'ecu': 73, 'bol': 83, 'arg': 97}"
      ]
     },
     "execution_count": 30,
     "metadata": {},
     "output_type": "execute_result"
    }
   ],
   "source": [
    "# It can also iterate through previously created lists and operations can also be made within\n",
    "# The usual way:\n",
    "\n",
    "import random as ran\n",
    "\n",
    "countries = ['col', 'ecu', 'bol', 'arg']\n",
    "population = {}\n",
    "\n",
    "for country in countries:\n",
    "    population[country] = ran.randint(1, 100)\n",
    "\n",
    "population"
   ]
  },
  {
   "cell_type": "code",
   "execution_count": 31,
   "id": "82e50d5f-49dd-42ae-bf57-a166880e38ff",
   "metadata": {},
   "outputs": [
    {
     "data": {
      "text/plain": [
       "{'col': 5, 'ecu': 31, 'bol': 100, 'arg': 90}"
      ]
     },
     "execution_count": 31,
     "metadata": {},
     "output_type": "execute_result"
    }
   ],
   "source": [
    "# The comprehensive way\n",
    "\n",
    "population = { country: ran.randint(1, 100) for country in countries }\n",
    "population\n"
   ]
  },
  {
   "cell_type": "code",
   "execution_count": 32,
   "id": "fe1aac7d-ac7c-4aa6-b4d9-c3c77dc02d6e",
   "metadata": {},
   "outputs": [
    {
     "data": {
      "text/plain": [
       "{'Juan': 39, 'Geral': 32, 'Danger': 7}"
      ]
     },
     "execution_count": 32,
     "metadata": {},
     "output_type": "execute_result"
    }
   ],
   "source": [
    "# It can also iterate through pairs of lists to relate them\n",
    "# The usual way:\n",
    "\n",
    "names = ['Juan', 'Geral', 'Danger']\n",
    "ages = [39, 32, 7]\n",
    "\n",
    "new_dict = {}\n",
    "\n",
    "for (name, age) in zip(names, ages):\n",
    "    new_dict[name] = age\n",
    "\n",
    "new_dict"
   ]
  },
  {
   "cell_type": "code",
   "execution_count": 33,
   "id": "c8d4ced8-d41e-4539-a993-a786540d1ccc",
   "metadata": {},
   "outputs": [
    {
     "data": {
      "text/plain": [
       "{'Juan': 39, 'Geral': 32, 'Danger': 7}"
      ]
     },
     "execution_count": 33,
     "metadata": {},
     "output_type": "execute_result"
    }
   ],
   "source": [
    "# The comprehensive way\n",
    "\n",
    "new_dict = { name: age for (name, age) in zip(names, ages) }\n",
    "new_dict"
   ]
  },
  {
   "cell_type": "code",
   "execution_count": 34,
   "id": "c17d36f2-e6a4-42cc-913b-f3534b20e875",
   "metadata": {},
   "outputs": [
    {
     "data": {
      "text/plain": [
       "{'ecu': 31, 'bol': 100, 'arg': 90}"
      ]
     },
     "execution_count": 34,
     "metadata": {},
     "output_type": "execute_result"
    }
   ],
   "source": [
    "# Conditions can also be included within\n",
    "# The traditional way:\n",
    "\n",
    "result = {}\n",
    "for (country, people) in population.items():\n",
    "    if people > 20:\n",
    "        result[country] = people\n",
    "\n",
    "result"
   ]
  },
  {
   "cell_type": "code",
   "execution_count": 35,
   "id": "05d1c20a-2b2c-4829-b69f-0323e4e4d6f0",
   "metadata": {},
   "outputs": [
    {
     "data": {
      "text/plain": [
       "{'ecu': 31, 'bol': 100, 'arg': 90}"
      ]
     },
     "execution_count": 35,
     "metadata": {},
     "output_type": "execute_result"
    }
   ],
   "source": [
    "# The comprehensive way:\n",
    "\n",
    "result = { country: people for (country, people) in population.items() if people > 20 }\n",
    "result"
   ]
  },
  {
   "cell_type": "code",
   "execution_count": 36,
   "id": "8c8ed9ed-2c02-4da5-8659-031c52b6072d",
   "metadata": {},
   "outputs": [
    {
     "data": {
      "text/plain": [
       "{'o': 'O', 'a': 'A', 'u': 'U', 'i': 'I'}"
      ]
     },
     "execution_count": 36,
     "metadata": {},
     "output_type": "execute_result"
    }
   ],
   "source": [
    "# Another example with strings (iterable)\n",
    "\n",
    "text = 'Hola, soy Juanpita'\n",
    "unique = { c: c.upper() for c in text if c in 'aeiou' }\n",
    "unique"
   ]
  },
  {
   "cell_type": "markdown",
   "id": "ebfba020-8847-4bfc-bc42-262547ec9b2a",
   "metadata": {},
   "source": [
    "### Lists vs. Tuples vs. Sets"
   ]
  },
  {
   "cell_type": "code",
   "execution_count": 37,
   "id": "42ebfa8c-655d-4ec0-99e0-346d299c1ab5",
   "metadata": {},
   "outputs": [
    {
     "data": {
      "text/html": [
       "<div>\n",
       "<style scoped>\n",
       "    .dataframe tbody tr th:only-of-type {\n",
       "        vertical-align: middle;\n",
       "    }\n",
       "\n",
       "    .dataframe tbody tr th {\n",
       "        vertical-align: top;\n",
       "    }\n",
       "\n",
       "    .dataframe thead th {\n",
       "        text-align: right;\n",
       "    }\n",
       "</style>\n",
       "<table border=\"1\" class=\"dataframe\">\n",
       "  <thead>\n",
       "    <tr style=\"text-align: right;\">\n",
       "      <th></th>\n",
       "      <th>Mutable</th>\n",
       "      <th>Sorted</th>\n",
       "      <th>Indexable/Sliceable</th>\n",
       "      <th>Duplicates</th>\n",
       "    </tr>\n",
       "  </thead>\n",
       "  <tbody>\n",
       "    <tr>\n",
       "      <th>List</th>\n",
       "      <td>True</td>\n",
       "      <td>True</td>\n",
       "      <td>True</td>\n",
       "      <td>True</td>\n",
       "    </tr>\n",
       "    <tr>\n",
       "      <th>Tuple</th>\n",
       "      <td>False</td>\n",
       "      <td>True</td>\n",
       "      <td>True</td>\n",
       "      <td>True</td>\n",
       "    </tr>\n",
       "    <tr>\n",
       "      <th>Set</th>\n",
       "      <td>True</td>\n",
       "      <td>False</td>\n",
       "      <td>False</td>\n",
       "      <td>False</td>\n",
       "    </tr>\n",
       "  </tbody>\n",
       "</table>\n",
       "</div>"
      ],
      "text/plain": [
       "       Mutable  Sorted  Indexable/Sliceable  Duplicates\n",
       "List      True    True                 True        True\n",
       "Tuple    False    True                 True        True\n",
       "Set       True   False                False       False"
      ]
     },
     "execution_count": 37,
     "metadata": {},
     "output_type": "execute_result"
    }
   ],
   "source": [
    "# Comparison among Lists, tuples and Sets\n",
    "\n",
    "import pandas as pd\n",
    "\n",
    "data = {'Mutable': [True, False, True],\n",
    "        'Sorted': [True, True, False],\n",
    "        'Indexable/Sliceable': [True, True, False],\n",
    "        'Duplicates': [True, True, False]\n",
    "       }\n",
    "\n",
    "comparison = pd.DataFrame(data, index = ['List', 'Tuple', 'Set'])\n",
    "comparison.head()"
   ]
  },
  {
   "cell_type": "markdown",
   "id": "d89b42ec-4a94-421e-9d4d-3d77c4c7126f",
   "metadata": {},
   "source": [
    "### Functions"
   ]
  },
  {
   "cell_type": "code",
   "execution_count": 38,
   "id": "955a5e2a-f090-4024-929c-7861306ed089",
   "metadata": {},
   "outputs": [
    {
     "name": "stdout",
     "output_type": "stream",
     "text": [
      "My argument is Hello, world\n",
      "My argument is 32\n",
      "My argument is        Mutable  Sorted  Indexable/Sliceable  Duplicates\n",
      "List      True    True                 True        True\n",
      "Tuple    False    True                 True        True\n",
      "Set       True   False                False       False\n",
      "My argument is {'Juan': 39, 'Geral': 32, 'Danger': 7}\n"
     ]
    }
   ],
   "source": [
    "# Structure of a function: (reserved keyword)(funciton name)(arguments): (function body)\n",
    "\n",
    "def my_print(arg):\n",
    "    print(f'My argument is {arg}')\n",
    "\n",
    "my_print('Hello, world')\n",
    "my_print(32)\n",
    "my_print(comparison)\n",
    "my_print(new_dict)"
   ]
  },
  {
   "cell_type": "code",
   "execution_count": 39,
   "id": "7565ecaf-ba2f-42f3-af99-5527cd05ffbb",
   "metadata": {},
   "outputs": [
    {
     "name": "stdout",
     "output_type": "stream",
     "text": [
      "The result of my first sum funtion is: 5\n"
     ]
    }
   ],
   "source": [
    "# A function may return a value instead of just executing the print function to show it\n",
    "\n",
    "def sum (a,b):\n",
    "    c = a + b\n",
    "    return c\n",
    "\n",
    "my_result = sum(2, 3)\n",
    "print(f'The result of my first sum funtion is: {my_result}')"
   ]
  },
  {
   "cell_type": "code",
   "execution_count": 40,
   "id": "96b9cc23-2435-4787-9b78-5cba08e75689",
   "metadata": {},
   "outputs": [
    {
     "name": "stdout",
     "output_type": "stream",
     "text": [
      "The result of my shorter sum function is: 5\n"
     ]
    }
   ],
   "source": [
    "def sum (d,e):\n",
    "# Directly resulting instead of assigning the sum to another variable\n",
    "    return(d + e)\n",
    "\n",
    "my_result_2 = sum(37, 5)\n",
    "print(f'The result of my shorter sum function is: {my_result}')"
   ]
  },
  {
   "cell_type": "code",
   "execution_count": 41,
   "id": "09a59239-8a87-46de-af1c-fc59d46dc3a0",
   "metadata": {},
   "outputs": [
    {
     "name": "stdout",
     "output_type": "stream",
     "text": [
      "32\n"
     ]
    }
   ],
   "source": [
    "# Double function nesting: Print function receives what the outer sum returns, and that sum receives two sum functions as their parameters.\n",
    "\n",
    "print(sum(sum(9,5), sum(8,10)))"
   ]
  },
  {
   "cell_type": "code",
   "execution_count": 42,
   "id": "9dab0ff0-6d98-41ce-aef6-8fcf501f5789",
   "metadata": {},
   "outputs": [
    {
     "name": "stdout",
     "output_type": "stream",
     "text": [
      "(24, 'height is 2, width is 3, depth is 4')\n",
      "(1, 'height is 1, width is 1, depth is 1')\n",
      "(36, 'height is 9, width is 4, depth is 1')\n",
      "24\n"
     ]
    }
   ],
   "source": [
    "# Function with multiple returns\n",
    "\n",
    "def find_volume(h = 1, w = 1, d = 1):\n",
    "    return(h*w*d, f'height is {h}, width is {w}, depth is {d}')\n",
    "\n",
    "my_volume1 = find_volume(2,3,4)\n",
    "my_volume2 = find_volume()\n",
    "my_volume3 = find_volume(h = 9, w = 4)\n",
    "\n",
    "print(my_volume1)\n",
    "print(my_volume2)\n",
    "print(my_volume3)\n",
    "print(my_volume1[0])\n",
    "volume, description = find_volume(10,20,30)\n"
   ]
  },
  {
   "cell_type": "code",
   "execution_count": 43,
   "id": "60ebd058-3c64-44a6-9982-ed5a2918c8fa",
   "metadata": {},
   "outputs": [
    {
     "name": "stdout",
     "output_type": "stream",
     "text": [
      "6000\n",
      "height is 10, width is 20, depth is 30\n"
     ]
    }
   ],
   "source": [
    "print(volume)\n",
    "print(description)"
   ]
  },
  {
   "cell_type": "markdown",
   "id": "b262540f-cc9b-451d-b52f-c503e3e5aab8",
   "metadata": {},
   "source": [
    "\n",
    "### Variable scope"
   ]
  },
  {
   "cell_type": "code",
   "execution_count": 44,
   "id": "59e5ac9e-d2f9-44cf-b0d3-c16508d85bd2",
   "metadata": {},
   "outputs": [],
   "source": [
    "'''\n",
    "Stands for where a variable can be used. If a variable is declared within a control structure, cycle or function, the variable can only\n",
    "be used there. if it is declared outside (in it's nesting structure or in the base of the application), it will have the scope of\n",
    "the parent structure and all their nested ones.\n",
    "'''\n",
    "\n",
    "# Local scope\n",
    "\n",
    "def helloworld():\n",
    "    message = 'hello world'\n",
    "    return message"
   ]
  },
  {
   "cell_type": "code",
   "execution_count": 45,
   "id": "8e990d05-527d-44b9-9408-68469cbb084b",
   "metadata": {},
   "outputs": [
    {
     "ename": "NameError",
     "evalue": "name 'message' is not defined",
     "output_type": "error",
     "traceback": [
      "\u001b[0;31m---------------------------------------------------------------------------\u001b[0m",
      "\u001b[0;31mNameError\u001b[0m                                 Traceback (most recent call last)",
      "Cell \u001b[0;32mIn[45], line 3\u001b[0m\n\u001b[1;32m      1\u001b[0m \u001b[38;5;66;03m# Accessing the variable defined inside the function from outside will result in an error\u001b[39;00m\n\u001b[0;32m----> 3\u001b[0m \u001b[38;5;28mprint\u001b[39m(\u001b[43mmessage\u001b[49m)\n",
      "\u001b[0;31mNameError\u001b[0m: name 'message' is not defined"
     ]
    }
   ],
   "source": [
    "# Accessing the variable defined inside the function from outside will result in an error\n",
    "\n",
    "print(message)"
   ]
  },
  {
   "cell_type": "code",
   "execution_count": 46,
   "id": "754a1153-f5b1-4851-b43e-dfc170134b70",
   "metadata": {},
   "outputs": [
    {
     "name": "stdout",
     "output_type": "stream",
     "text": [
      "hello world\n"
     ]
    }
   ],
   "source": [
    "# Since the function is returning the variable, to access it it should be assigned to a variable defined outside the scope of the function.\n",
    "\n",
    "my_message = helloworld()\n",
    "\n",
    "# Thus the inner variable of the function will be assigned to the outer variable\n",
    "\n",
    "print(my_message)"
   ]
  },
  {
   "cell_type": "code",
   "execution_count": 47,
   "id": "1be49878-1be5-49d5-ab04-3fa70abf1e6d",
   "metadata": {},
   "outputs": [
    {
     "name": "stdout",
     "output_type": "stream",
     "text": [
      "7.480784978165939\n"
     ]
    }
   ],
   "source": [
    "# Now, a variable defined from outside, can be used within a nested function by inheritance\n",
    "\n",
    "speed_of_light = 299792458 # m/s\n",
    "\n",
    "def laptime_around_the_globe():\n",
    "    # Defining a local variable\n",
    "    earth_diameter = 40075000 # meters\n",
    "    # Accessing the outer/global variable\n",
    "    time = earth_diameter/speed_of_light\n",
    "    laps = 1/time\n",
    "    return laps\n",
    "\n",
    "print(laptime_around_the_globe())"
   ]
  },
  {
   "cell_type": "markdown",
   "id": "154e5a6d-7cc2-4456-96a8-d3acadd8041d",
   "metadata": {},
   "source": [
    "### Anonymous functions: Lambdas"
   ]
  },
  {
   "cell_type": "code",
   "execution_count": 48,
   "id": "81e1597a-9a34-4a77-825f-3c4ba5eb4934",
   "metadata": {},
   "outputs": [
    {
     "name": "stdout",
     "output_type": "stream",
     "text": [
      "Regular fx = 5\n",
      "Lambda fx = 10\n"
     ]
    }
   ],
   "source": [
    "# Structure of a lambda: (reserved keyword)(arguments) : (function body)\n",
    "\n",
    "# A regular function\n",
    "\n",
    "def increment(input):\n",
    "    return input + 1\n",
    "\n",
    "my_regular_fx = increment(4)\n",
    "print(f'Regular fx = {my_regular_fx}')\n",
    "\n",
    "# The same, now in lambda\n",
    "\n",
    "my_lambda_fx = lambda input : input + 1\n",
    "print(f'Lambda fx = {my_lambda_fx(9)}')"
   ]
  },
  {
   "cell_type": "markdown",
   "id": "263765a3-8bef-4a20-b02a-d1363172ccf7",
   "metadata": {},
   "source": [
    "### Higher order functions"
   ]
  },
  {
   "cell_type": "code",
   "execution_count": 50,
   "id": "3f85f907-44ff-49d6-9b80-e376f7adac44",
   "metadata": {},
   "outputs": [
    {
     "name": "stdout",
     "output_type": "stream",
     "text": [
      "32\n"
     ]
    },
    {
     "data": {
      "text/plain": [
       "'Juan Pablo'"
      ]
     },
     "execution_count": 50,
     "metadata": {},
     "output_type": "execute_result"
    }
   ],
   "source": [
    "# As did way above:\n",
    "# Double function nesting: Print function receives what the outer sum returns, and that sum receives two sum functions as their parameters.\n",
    "\n",
    "print(sum(sum(9,5), sum(8,10)))\n",
    "\n",
    "# Following this concept, a high order function is a function that receives another as an argument\n",
    "\n",
    "def function_a(name):\n",
    "    return(name.title())\n",
    "\n",
    "function_a('juan pablo')\n"
   ]
  },
  {
   "cell_type": "code",
   "execution_count": 52,
   "id": "77cd9134-392c-495f-b53a-3aa614f0befa",
   "metadata": {},
   "outputs": [
    {
     "name": "stdout",
     "output_type": "stream",
     "text": [
      "The student Juan Pablo is in the class Programming\n"
     ]
    }
   ],
   "source": [
    "# Creating a function that expects another (HOF):\n",
    "\n",
    "def function_b(subject, name, func):\n",
    "    # The execution of the passed function is made in the body of the HOF\n",
    "    assignation = f'The student {func(name)} is in the class {subject}'\n",
    "    return assignation\n",
    "\n",
    "# When summoning the function, the passed function should be named, not executed (hence, without ())\n",
    "my_hof = function_b('Programming', 'juan pablo', function_a)\n",
    "print(my_hof)"
   ]
  },
  {
   "cell_type": "code",
   "execution_count": 55,
   "id": "f8ea9678-51b3-46ec-96b9-24611e6d96fc",
   "metadata": {},
   "outputs": [
    {
     "name": "stdout",
     "output_type": "stream",
     "text": [
      "The student Alma Marcela is in the class Mathematics\n"
     ]
    }
   ],
   "source": [
    "# Extending the previous example to the usage of lambdas:\n",
    "\n",
    "function_c = lambda name : name.title()\n",
    "function_d = lambda subject, name, func : f'The student {func(name)} is in the class {subject}'\n",
    "\n",
    "my_lambda_hof = function_d('Mathematics', 'alma marcela', function_c)\n",
    "print(my_lambda_hof)"
   ]
  },
  {
   "cell_type": "markdown",
   "id": "8f3429b0-865c-4638-97ff-4e7d2e0a06f7",
   "metadata": {},
   "source": [
    "### Map"
   ]
  },
  {
   "cell_type": "code",
   "execution_count": 57,
   "id": "5de0b94e-419d-42c0-b32a-79051218c9dc",
   "metadata": {},
   "outputs": [
    {
     "name": "stdout",
     "output_type": "stream",
     "text": [
      "[2, 4, 6, 8]\n"
     ]
    }
   ],
   "source": [
    "# The ol' good way using iterables and cycle structures\n",
    "\n",
    "numbers = tuple(range(1,5))\n",
    "transform = []\n",
    "\n",
    "for number in numbers:\n",
    "    transform.append(number * 2)\n",
    "\n",
    "print(transform)"
   ]
  },
  {
   "cell_type": "code",
   "execution_count": 60,
   "id": "5a98aa1f-af79-475a-8598-0f8bf2b41978",
   "metadata": {},
   "outputs": [
    {
     "name": "stdout",
     "output_type": "stream",
     "text": [
      "[2, 4, 6, 8]\n"
     ]
    }
   ],
   "source": [
    "map_transform = list(map(lambda number : number * 2, numbers))\n",
    "print(map_transform)"
   ]
  },
  {
   "cell_type": "code",
   "execution_count": 65,
   "id": "bb6a9a6c-fda2-421a-b4db-b4f8f303f4ee",
   "metadata": {},
   "outputs": [
    {
     "name": "stdout",
     "output_type": "stream",
     "text": [
      "[6, 10, 14, 18]\n",
      "4\n"
     ]
    }
   ],
   "source": [
    "# When operating with two iterables of different size, the map result will take the shorter\n",
    "\n",
    "numbers_2 = tuple(range(5,20,3))\n",
    "\n",
    "# len(numbers) == 4, len(numbers_2) == 5, hence, len(sum) == 4\n",
    "\n",
    "sum = list(map(lambda x, y: x + y, numbers, numbers_2))\n",
    "print(sum)\n",
    "print(len(sum))"
   ]
  },
  {
   "cell_type": "code",
   "execution_count": 2,
   "id": "1fda6759-3bf8-4a5d-a53b-afeadc977301",
   "metadata": {},
   "outputs": [
    {
     "name": "stdout",
     "output_type": "stream",
     "text": [
      "[100, 300, 50]\n",
      "[{'product': 'shirt', 'price': 100, 'taxes': 19.0}, {'product': 'trunks', 'price': 300, 'taxes': 57.0}, {'product': 'socks', 'price': 50, 'taxes': 9.5}]\n"
     ]
    }
   ],
   "source": [
    "# Using a list of dictionaries\n",
    "\n",
    "items = [\n",
    "    {\n",
    "        'product': 'shirt',\n",
    "        'price': 100\n",
    "    },\n",
    "    {\n",
    "        'product': 'trunks',\n",
    "        'price': 300\n",
    "    },\n",
    "    {\n",
    "        'product': 'socks',\n",
    "        'price': 50\n",
    "    }\n",
    "]\n",
    "\n",
    "prices = list(map(lambda item : item['price'], items))\n",
    "print(prices)\n",
    "\n",
    "def set_taxes(item):\n",
    "    item['taxes'] = item['price'] * 0.19\n",
    "    return item\n",
    "\n",
    "taxes = list(map(set_taxes, items))\n",
    "print(taxes)"
   ]
  },
  {
   "cell_type": "code",
   "execution_count": 3,
   "id": "0dea297f-5ea8-48ba-990b-ccdd0cff1ae6",
   "metadata": {},
   "outputs": [
    {
     "name": "stdout",
     "output_type": "stream",
     "text": [
      "[{'product': 'shirt', 'price': 100, 'taxes': 19.0}, {'product': 'trunks', 'price': 300, 'taxes': 57.0}, {'product': 'socks', 'price': 50, 'taxes': 9.5}]\n"
     ]
    }
   ],
   "source": [
    "# Nonetheless, taxes attribute has been applied in original array as well, which might be unwanted\n",
    "\n",
    "print(items)"
   ]
  },
  {
   "cell_type": "code",
   "execution_count": 8,
   "id": "8e596962-d393-4fcc-850f-474959e641b6",
   "metadata": {},
   "outputs": [
    {
     "name": "stdout",
     "output_type": "stream",
     "text": [
      "[{'product': 'shirt', 'price': 100, 'taxes': 19.0}, {'product': 'trunks', 'price': 300, 'taxes': 57.0}, {'product': 'socks', 'price': 50, 'taxes': 9.5}]\n"
     ]
    }
   ],
   "source": [
    "'''\n",
    "Thus, modifying the affecting function by cloning the array instance into another, will solve the problem since they now aren't\n",
    "sharing positions in memory\n",
    "'''\n",
    "\n",
    "# Resetting items\n",
    "\n",
    "items = [\n",
    "    {\n",
    "        'product': 'shirt',\n",
    "        'price': 100\n",
    "    },\n",
    "    {\n",
    "        'product': 'trunks',\n",
    "        'price': 300\n",
    "    },\n",
    "    {\n",
    "        'product': 'socks',\n",
    "        'price': 50\n",
    "    }\n",
    "]\n",
    "\n",
    "def set_taxes_new(item):\n",
    "    new_item = item.copy()\n",
    "    new_item['taxes'] = new_item['price'] * 0.19\n",
    "    return new_item\n",
    "\n",
    "taxes = list(map(set_taxes_new, items))\n",
    "print(taxes)"
   ]
  },
  {
   "cell_type": "code",
   "execution_count": 9,
   "id": "26c8cef2-86c0-4767-82b7-aea5a642280b",
   "metadata": {},
   "outputs": [
    {
     "name": "stdout",
     "output_type": "stream",
     "text": [
      "[{'product': 'shirt', 'price': 100}, {'product': 'trunks', 'price': 300}, {'product': 'socks', 'price': 50}]\n"
     ]
    }
   ],
   "source": [
    "# And the original array remains unaltered\n",
    "\n",
    "print(items)"
   ]
  },
  {
   "cell_type": "markdown",
   "id": "14f53f6c-2e7b-4890-a996-4f7e3cf026ec",
   "metadata": {},
   "source": [
    "### Filter"
   ]
  },
  {
   "cell_type": "code",
   "execution_count": 15,
   "id": "c0376c98-b701-484f-ba18-46468f6b03f5",
   "metadata": {},
   "outputs": [
    {
     "name": "stdout",
     "output_type": "stream",
     "text": [
      "(2, 4)\n"
     ]
    }
   ],
   "source": [
    "# Filters depending on a condition set in the body of the function, either lambda or named\n",
    "\n",
    "numbers = list(range(1,6))\n",
    "filtered_numbers = tuple(filter(lambda number : number % 2 == 0, numbers))\n",
    "print(filtered_numbers)"
   ]
  },
  {
   "cell_type": "code",
   "execution_count": 17,
   "id": "c29badf5-4a4e-4396-909f-8f7011482851",
   "metadata": {},
   "outputs": [
    {
     "name": "stdout",
     "output_type": "stream",
     "text": [
      "[{'home_team': 'Bolivia', 'away_team': 'Uruguay', 'home_team_score': 3, 'away_team_score': 1, 'home_team_result': 'Win'}, {'home_team': 'Ecuador', 'away_team': 'Venezuela', 'home_team_score': 5, 'away_team_score': 0, 'home_team_result': 'Win'}]\n"
     ]
    }
   ],
   "source": [
    "# Now, using an iterable of dictionaries:\n",
    "\n",
    "matches = [\n",
    "  {\n",
    "    'home_team': 'Bolivia',\n",
    "    'away_team': 'Uruguay',\n",
    "    'home_team_score': 3,\n",
    "    'away_team_score': 1,\n",
    "    'home_team_result': 'Win'\n",
    "  },\n",
    "  {\n",
    "    'home_team': 'Brazil',\n",
    "    'away_team': 'Mexico',\n",
    "    'home_team_score': 1,\n",
    "    'away_team_score': 1,\n",
    "    'home_team_result': 'Draw'\n",
    "  },\n",
    "  {\n",
    "    'home_team': 'Ecuador',\n",
    "    'away_team': 'Venezuela',\n",
    "    'home_team_score': 5,\n",
    "    'away_team_score': 0,\n",
    "    'home_team_result': 'Win'\n",
    "  },\n",
    "]\n",
    "\n",
    "new_matches = list(filter(lambda match : match['home_team_result'] == 'Win', matches))\n",
    "print(new_matches)"
   ]
  },
  {
   "cell_type": "markdown",
   "id": "14a594d7-f6ce-4ef4-8989-990f2651d7a5",
   "metadata": {},
   "source": [
    "### Reduce"
   ]
  },
  {
   "cell_type": "code",
   "execution_count": 24,
   "id": "84e8fba8-7356-4304-b31e-66f174b803fb",
   "metadata": {},
   "outputs": [
    {
     "name": "stdout",
     "output_type": "stream",
     "text": [
      "10\n"
     ]
    }
   ],
   "source": [
    "# Helps processing or concluding something from an iterable, like the sum of all its numbers\n",
    "import functools as ft\n",
    "\n",
    "numbers = tuple(range(1,5))\n",
    "result = ft.reduce(lambda index, number: index + number, numbers)\n",
    "print(result)\n",
    "\n",
    "# Here, the variable index is taking the value of the immediately previous return. \n",
    "\n",
    "#We have the tuple (1, 2, 3, 4). Thats our \"numbers\" object.\n",
    "#Then, we use a function that receives as a parameter an accumulator and the iterable, like\n",
    "#function(accumulator, iterable)\n",
    "#Which in our example is: function(index, numbers)\n",
    "#And it'll return the sum between these two, index + number in numbers\n",
    "#Thus, reduce iterations for this example will go as follow:\n",
    "\n",
    "# it[1]: index = 0, numbers[0] = 1, return = 0 + 1\n",
    "# Now the index takes the result of the latest return (0 + 1 = 1)\n",
    "# it[2]: index = 1, numbers[1] = 2, return = 1 + 2\n",
    "# Same logic.\n",
    "# it[3]: index = 3, numbers[2] = 3, return = 3 + 3\n",
    "# it[4]: index = 6, numbers[3] = 4, return = 6 + 4\n",
    "\n",
    "# Here, the flow gets cut, and the final return is 6 + 4 = 10.\n"
   ]
  },
  {
   "cell_type": "markdown",
   "id": "500db073-3f98-4ddb-a604-9f1eb5691432",
   "metadata": {},
   "source": [
    "### Modules"
   ]
  },
  {
   "cell_type": "code",
   "execution_count": null,
   "id": "d85ccae1-76f8-4b60-93ba-24e8d6af9a4e",
   "metadata": {},
   "outputs": [],
   "source": [
    "# Any file ending with .py can be considered a module\n",
    "\n",
    "def get_population():\n",
    "    keys: ('col', 'bol')\n",
    "    values: (300, 400)\n",
    "    return keys, values\n",
    "\n"
   ]
  }
 ],
 "metadata": {
  "kernelspec": {
   "display_name": "Python 3 (ipykernel)",
   "language": "python",
   "name": "python3"
  },
  "language_info": {
   "codemirror_mode": {
    "name": "ipython",
    "version": 3
   },
   "file_extension": ".py",
   "mimetype": "text/x-python",
   "name": "python",
   "nbconvert_exporter": "python",
   "pygments_lexer": "ipython3",
   "version": "3.9.6"
  }
 },
 "nbformat": 4,
 "nbformat_minor": 5
}
