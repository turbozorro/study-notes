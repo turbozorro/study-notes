{
 "cells": [
  {
   "cell_type": "markdown",
   "id": "44188631-cfa4-4b09-b206-b673454a1495",
   "metadata": {},
   "source": [
    "### Modifying sets"
   ]
  },
  {
   "cell_type": "code",
   "execution_count": 1,
   "id": "0ef8f348-df80-445a-816d-24832f55cfcb",
   "metadata": {},
   "outputs": [],
   "source": [
    "# Defining a set\n",
    "set_countries = {'col', 'mex', 'bol'}"
   ]
  },
  {
   "cell_type": "code",
   "execution_count": 2,
   "id": "45cff6e4-f96d-4fa1-8afb-c9ad5ec098e5",
   "metadata": {},
   "outputs": [
    {
     "name": "stdout",
     "output_type": "stream",
     "text": [
      "3\n"
     ]
    }
   ],
   "source": [
    "# Retrieving its size (length)\n",
    "size = len(set_countries)\n",
    "print(size)"
   ]
  },
  {
   "cell_type": "code",
   "execution_count": 3,
   "id": "2da870ad-1563-4591-b4dd-d305adae9b45",
   "metadata": {},
   "outputs": [
    {
     "name": "stdout",
     "output_type": "stream",
     "text": [
      "True\n",
      "False\n"
     ]
    }
   ],
   "source": [
    "# Membership\n",
    "print('col' in set_countries)\n",
    "print('per' in set_countries)"
   ]
  },
  {
   "cell_type": "code",
   "execution_count": 4,
   "id": "94b205cb-5de2-4a5c-bea6-c865655e3d4b",
   "metadata": {},
   "outputs": [],
   "source": [
    "# add\n",
    "set_countries.add('per')"
   ]
  },
  {
   "cell_type": "code",
   "execution_count": 5,
   "id": "31cdfa00-f669-4ca6-ac4d-d5455d8f32ff",
   "metadata": {},
   "outputs": [
    {
     "name": "stdout",
     "output_type": "stream",
     "text": [
      "{'col', 'mex', 'bol', 'per'}\n"
     ]
    }
   ],
   "source": [
    "print(set_countries)"
   ]
  },
  {
   "cell_type": "code",
   "execution_count": 6,
   "id": "834e8335-85b9-4bf6-8eee-2c29ce682bba",
   "metadata": {},
   "outputs": [],
   "source": [
    "# update (works to update with sets, rather than single values)\n",
    "set_countries.update({'arg', 'chi', 'col'})"
   ]
  },
  {
   "cell_type": "code",
   "execution_count": 7,
   "id": "5b4e5332-f8ef-4dd4-b35a-813701a9f7e3",
   "metadata": {},
   "outputs": [
    {
     "name": "stdout",
     "output_type": "stream",
     "text": [
      "{'bol', 'arg', 'per', 'a', 'u', 'col', 'chi', 'mex', 's'}\n"
     ]
    }
   ],
   "source": [
    "set_countries.update('usa')\n",
    "print(set_countries)"
   ]
  },
  {
   "cell_type": "code",
   "execution_count": 8,
   "id": "d8cdc819-412b-4aba-a78f-b59b580bc834",
   "metadata": {},
   "outputs": [
    {
     "name": "stdout",
     "output_type": "stream",
     "text": [
      "{'bol', 'arg', 'per', 'col', 'chi', 'mex'}\n"
     ]
    }
   ],
   "source": [
    "# remove\n",
    "set_countries.remove('u')\n",
    "set_countries.remove('s')\n",
    "set_countries.remove('a')\n",
    "print(set_countries)"
   ]
  },
  {
   "cell_type": "code",
   "execution_count": 9,
   "id": "079b1f96-8869-4c00-b2e2-2679bb972d8e",
   "metadata": {},
   "outputs": [],
   "source": [
    "# discard\n",
    "set_countries.discard('usa')"
   ]
  },
  {
   "cell_type": "code",
   "execution_count": 10,
   "id": "821cbd09-08b3-41f3-b500-140fc7f385f2",
   "metadata": {},
   "outputs": [
    {
     "name": "stdout",
     "output_type": "stream",
     "text": [
      "set()\n"
     ]
    }
   ],
   "source": [
    "# clear the whole set \n",
    "set_countries.clear()\n",
    "print(set_countries)"
   ]
  },
  {
   "cell_type": "markdown",
   "id": "9f886597-5348-4336-b7dd-6959ace7aa23",
   "metadata": {
    "scrolled": true
   },
   "source": [
    "### Operating sets"
   ]
  },
  {
   "cell_type": "code",
   "execution_count": 11,
   "id": "d9d17eb0-c58e-4753-ba7c-895990599356",
   "metadata": {},
   "outputs": [],
   "source": [
    "set_a = {'col', 'bol', 'mex'}\n",
    "set_b = {'per', 'bol'}"
   ]
  },
  {
   "cell_type": "code",
   "execution_count": 12,
   "id": "c8eeba79-2784-4f0d-87f6-f106efbd6b89",
   "metadata": {},
   "outputs": [
    {
     "data": {
      "text/plain": [
       "{'bol', 'col', 'mex', 'per'}"
      ]
     },
     "execution_count": 12,
     "metadata": {},
     "output_type": "execute_result"
    }
   ],
   "source": [
    "# union (logic OR)\n",
    "set_ab_union = set_a.union(set_b)\n",
    "set_ab_union"
   ]
  },
  {
   "cell_type": "code",
   "execution_count": 13,
   "id": "fbab7702-d82c-40db-aded-8d7609e5df44",
   "metadata": {},
   "outputs": [
    {
     "data": {
      "text/plain": [
       "{'bol', 'col', 'mex', 'per'}"
      ]
     },
     "execution_count": 13,
     "metadata": {},
     "output_type": "execute_result"
    }
   ],
   "source": [
    "# arithmetic union\n",
    "set_a | set_b"
   ]
  },
  {
   "cell_type": "code",
   "execution_count": 14,
   "id": "77beed21-c91c-4416-8f53-08b9bf898246",
   "metadata": {},
   "outputs": [
    {
     "data": {
      "text/plain": [
       "{'bol'}"
      ]
     },
     "execution_count": 14,
     "metadata": {},
     "output_type": "execute_result"
    }
   ],
   "source": [
    "# intersection (logic AND)\n",
    "set_ab_inter = set_a.intersection(set_b)\n",
    "set_ab_inter"
   ]
  },
  {
   "cell_type": "code",
   "execution_count": 15,
   "id": "6f850470-ecb2-4a4c-b1d2-e752b9c7f06f",
   "metadata": {},
   "outputs": [
    {
     "data": {
      "text/plain": [
       "{'bol'}"
      ]
     },
     "execution_count": 15,
     "metadata": {},
     "output_type": "execute_result"
    }
   ],
   "source": [
    "# arithmetic intersection\n",
    "set_a & set_b"
   ]
  },
  {
   "cell_type": "code",
   "execution_count": 16,
   "id": "a445ab27-9206-4ea2-8fea-06fc684adcc1",
   "metadata": {},
   "outputs": [
    {
     "data": {
      "text/plain": [
       "{'col', 'mex'}"
      ]
     },
     "execution_count": 16,
     "metadata": {},
     "output_type": "execute_result"
    }
   ],
   "source": [
    "# difference \n",
    "set_ab_diff = set_a.difference(set_b)\n",
    "set_ab_diff"
   ]
  },
  {
   "cell_type": "code",
   "execution_count": 17,
   "id": "e2450259-7852-49b1-be67-431972db3834",
   "metadata": {},
   "outputs": [
    {
     "data": {
      "text/plain": [
       "{'col', 'mex'}"
      ]
     },
     "execution_count": 17,
     "metadata": {},
     "output_type": "execute_result"
    }
   ],
   "source": [
    "# arithmetic difference\n",
    "set_a - set_b"
   ]
  },
  {
   "cell_type": "code",
   "execution_count": 18,
   "id": "035f33e0-8e93-476c-b67f-82f6214cc2a6",
   "metadata": {},
   "outputs": [
    {
     "data": {
      "text/plain": [
       "{'col', 'mex', 'per'}"
      ]
     },
     "execution_count": 18,
     "metadata": {},
     "output_type": "execute_result"
    }
   ],
   "source": [
    "# symmetric difference\n",
    "set_ab_symdiff = set_a.symmetric_difference(set_b)\n",
    "set_ab_symdiff"
   ]
  },
  {
   "cell_type": "code",
   "execution_count": 19,
   "id": "c4246b2b-29a0-4d96-b49a-fe901b3a396d",
   "metadata": {},
   "outputs": [
    {
     "data": {
      "text/plain": [
       "{'col', 'mex', 'per'}"
      ]
     },
     "execution_count": 19,
     "metadata": {},
     "output_type": "execute_result"
    }
   ],
   "source": [
    "# Explained\n",
    "set_ab_symdiff = set_ab_union - set_ab_inter\n",
    "set_ab_symdiff"
   ]
  },
  {
   "cell_type": "code",
   "execution_count": 20,
   "id": "892f8017-3b22-4831-bf19-a3a3ccfff4e1",
   "metadata": {},
   "outputs": [
    {
     "data": {
      "text/plain": [
       "{'col', 'mex', 'per'}"
      ]
     },
     "execution_count": 20,
     "metadata": {},
     "output_type": "execute_result"
    }
   ],
   "source": [
    "# aritmethic symmetric difference\n",
    "set_a ^ set_b"
   ]
  },
  {
   "cell_type": "code",
   "execution_count": 21,
   "id": "564c1c6f-b48a-4061-a319-747e2a77de1e",
   "metadata": {},
   "outputs": [
    {
     "data": {
      "text/plain": [
       "{'bol', 'col', 'mex', 'per'}"
      ]
     },
     "execution_count": 21,
     "metadata": {},
     "output_type": "execute_result"
    }
   ],
   "source": [
    "superset = set_ab_symdiff | set_ab_diff | set_ab_inter | set_ab_union\n",
    "superset"
   ]
  },
  {
   "cell_type": "markdown",
   "id": "2ce8cae6-d0a8-4a7e-972d-75bbd9a5b662",
   "metadata": {},
   "source": [
    "### List comprehension"
   ]
  },
  {
   "cell_type": "code",
   "execution_count": 22,
   "id": "8c651079-bed4-4dd3-bb0e-38fa0ba376a6",
   "metadata": {},
   "outputs": [
    {
     "data": {
      "text/plain": [
       "[1, 2, 3, 4, 5, 6, 7, 8, 9, 10]"
      ]
     },
     "execution_count": 22,
     "metadata": {},
     "output_type": "execute_result"
    }
   ],
   "source": [
    "# Start with squared brackets, we iterate through a list and retrieve a object\n",
    "# The usual way:\n",
    "\n",
    "numbers_a = []\n",
    "for element in range(1, 11):\n",
    "    numbers_a.append(element)\n",
    "\n",
    "numbers_a"
   ]
  },
  {
   "cell_type": "code",
   "execution_count": 23,
   "id": "c25c33d0-41f5-47a3-a111-672b2643e0d1",
   "metadata": {},
   "outputs": [
    {
     "data": {
      "text/plain": [
       "[1, 2, 3, 4, 5, 6, 7, 8, 9, 10]"
      ]
     },
     "execution_count": 23,
     "metadata": {},
     "output_type": "execute_result"
    }
   ],
   "source": [
    "# The comprehensive way\n",
    "\n",
    "numbers_b = [element for element in range(1, 11)]\n",
    "numbers_b"
   ]
  },
  {
   "cell_type": "code",
   "execution_count": 24,
   "id": "5da71b0d-7896-4472-ae47-891f96145583",
   "metadata": {},
   "outputs": [
    {
     "data": {
      "text/plain": [
       "[2, 4, 6, 8, 10, 12, 14, 16, 18, 20]"
      ]
     },
     "execution_count": 24,
     "metadata": {},
     "output_type": "execute_result"
    }
   ],
   "source": [
    "# Operations can also be made within\n",
    "# The usual way:\n",
    "\n",
    "numbers_c = []\n",
    "for element in range (1, 11):\n",
    "    numbers_c.append(element * 2)\n",
    "\n",
    "numbers_c"
   ]
  },
  {
   "cell_type": "code",
   "execution_count": 25,
   "id": "b9cebed6-9897-4c49-a225-33ec1f6e15f3",
   "metadata": {},
   "outputs": [
    {
     "data": {
      "text/plain": [
       "[2, 4, 6, 8, 10, 12, 14, 16, 18, 20]"
      ]
     },
     "execution_count": 25,
     "metadata": {},
     "output_type": "execute_result"
    }
   ],
   "source": [
    "# The comprehensive way\n",
    "\n",
    "numbers_c =[(element * 2) for element in range(1, 11)]\n",
    "numbers_c"
   ]
  },
  {
   "cell_type": "code",
   "execution_count": 26,
   "id": "0e60ae05-cbe3-4904-aa7e-bd82f5c4b8fb",
   "metadata": {},
   "outputs": [
    {
     "data": {
      "text/plain": [
       "[4, 8, 12, 16, 20]"
      ]
     },
     "execution_count": 26,
     "metadata": {},
     "output_type": "execute_result"
    }
   ],
   "source": [
    "# Conditions can also be integrated\n",
    "# The usual way:\n",
    "\n",
    "numbers_d = []\n",
    "for element in range(1, 11):\n",
    "    if element % 2 == 0:\n",
    "        numbers_d.append(element * 2)\n",
    "\n",
    "numbers_d"
   ]
  },
  {
   "cell_type": "code",
   "execution_count": 27,
   "id": "75025425-a158-415d-a9db-ed1032c01335",
   "metadata": {},
   "outputs": [
    {
     "data": {
      "text/plain": [
       "[4, 8, 12, 16, 20]"
      ]
     },
     "execution_count": 27,
     "metadata": {},
     "output_type": "execute_result"
    }
   ],
   "source": [
    "# The comprehensive way\n",
    "\n",
    "numbers_d = [(element * 2) for element in range(1,11) if element % 2 == 0]\n",
    "numbers_d"
   ]
  },
  {
   "cell_type": "markdown",
   "id": "984e3a1e-1fd8-4577-88c3-ff7f8c6482b4",
   "metadata": {},
   "source": [
    "### Dictionary comprehension"
   ]
  },
  {
   "cell_type": "code",
   "execution_count": 28,
   "id": "efebf231-57b3-443b-b85c-6f39105f310b",
   "metadata": {},
   "outputs": [
    {
     "data": {
      "text/plain": [
       "{1: 2, 2: 4, 3: 6, 4: 8, 5: 10, 6: 12, 7: 14, 8: 16, 9: 18, 10: 20}"
      ]
     },
     "execution_count": 28,
     "metadata": {},
     "output_type": "execute_result"
    }
   ],
   "source": [
    "# Start with curly brackets, we iterate through a dictionary and retrieve a key-value pair\n",
    "# The usual way:\n",
    "\n",
    "dict_a = {}\n",
    "for i in range (1, 11):\n",
    "    dict_a[i] = i * 2\n",
    "\n",
    "dict_a"
   ]
  },
  {
   "cell_type": "code",
   "execution_count": 29,
   "id": "c2ef1977-2199-47f0-91be-91efd63957b7",
   "metadata": {},
   "outputs": [
    {
     "data": {
      "text/plain": [
       "{1: 2, 2: 4, 3: 6, 4: 8, 5: 10, 6: 12, 7: 14, 8: 16, 9: 18, 10: 20}"
      ]
     },
     "execution_count": 29,
     "metadata": {},
     "output_type": "execute_result"
    }
   ],
   "source": [
    "# The comprehensive way\n",
    "# be i the key and i * 2 the value as in the example above\n",
    "\n",
    "dict_a = { i: i*2 for i in range(1,11)}\n",
    "dict_a"
   ]
  },
  {
   "cell_type": "code",
   "execution_count": 30,
   "id": "400f6620-abc2-40f2-9f15-bc4b7bbe5fb2",
   "metadata": {},
   "outputs": [
    {
     "data": {
      "text/plain": [
       "{'col': 99, 'ecu': 50, 'bol': 61, 'arg': 39}"
      ]
     },
     "execution_count": 30,
     "metadata": {},
     "output_type": "execute_result"
    }
   ],
   "source": [
    "# It can also iterate through previously created lists and operations can also be made within\n",
    "# The usual way:\n",
    "\n",
    "import random as ran\n",
    "\n",
    "countries = ['col', 'ecu', 'bol', 'arg']\n",
    "population = {}\n",
    "\n",
    "for country in countries:\n",
    "    population[country] = ran.randint(1, 100)\n",
    "\n",
    "population"
   ]
  },
  {
   "cell_type": "code",
   "execution_count": 31,
   "id": "82e50d5f-49dd-42ae-bf57-a166880e38ff",
   "metadata": {},
   "outputs": [
    {
     "data": {
      "text/plain": [
       "{'col': 43, 'ecu': 68, 'bol': 43, 'arg': 69}"
      ]
     },
     "execution_count": 31,
     "metadata": {},
     "output_type": "execute_result"
    }
   ],
   "source": [
    "# The comprehensive way\n",
    "\n",
    "population = { country: ran.randint(1, 100) for country in countries }\n",
    "population\n"
   ]
  },
  {
   "cell_type": "code",
   "execution_count": 32,
   "id": "fe1aac7d-ac7c-4aa6-b4d9-c3c77dc02d6e",
   "metadata": {},
   "outputs": [
    {
     "data": {
      "text/plain": [
       "{'Juan': 39, 'Geral': 32, 'Danger': 7}"
      ]
     },
     "execution_count": 32,
     "metadata": {},
     "output_type": "execute_result"
    }
   ],
   "source": [
    "# It can also iterate through pairs of lists to relate them\n",
    "# The usual way:\n",
    "\n",
    "names = ['Juan', 'Geral', 'Danger']\n",
    "ages = [39, 32, 7]\n",
    "\n",
    "new_dict = {}\n",
    "\n",
    "for (name, age) in zip(names, ages):\n",
    "    new_dict[name] = age\n",
    "\n",
    "new_dict"
   ]
  },
  {
   "cell_type": "code",
   "execution_count": 33,
   "id": "c8d4ced8-d41e-4539-a993-a786540d1ccc",
   "metadata": {},
   "outputs": [
    {
     "data": {
      "text/plain": [
       "{'Juan': 39, 'Geral': 32, 'Danger': 7}"
      ]
     },
     "execution_count": 33,
     "metadata": {},
     "output_type": "execute_result"
    }
   ],
   "source": [
    "# The comprehensive way\n",
    "\n",
    "new_dict = { name: age for (name, age) in zip(names, ages) }\n",
    "new_dict"
   ]
  },
  {
   "cell_type": "code",
   "execution_count": 34,
   "id": "c17d36f2-e6a4-42cc-913b-f3534b20e875",
   "metadata": {},
   "outputs": [
    {
     "data": {
      "text/plain": [
       "{'col': 43, 'ecu': 68, 'bol': 43, 'arg': 69}"
      ]
     },
     "execution_count": 34,
     "metadata": {},
     "output_type": "execute_result"
    }
   ],
   "source": [
    "# Conditions can also be included within\n",
    "# The traditional way:\n",
    "\n",
    "result = {}\n",
    "for (country, people) in population.items():\n",
    "    if people > 20:\n",
    "        result[country] = people\n",
    "\n",
    "result"
   ]
  },
  {
   "cell_type": "code",
   "execution_count": 35,
   "id": "05d1c20a-2b2c-4829-b69f-0323e4e4d6f0",
   "metadata": {},
   "outputs": [
    {
     "data": {
      "text/plain": [
       "{'col': 43, 'ecu': 68, 'bol': 43, 'arg': 69}"
      ]
     },
     "execution_count": 35,
     "metadata": {},
     "output_type": "execute_result"
    }
   ],
   "source": [
    "# The comprehensive way:\n",
    "\n",
    "result = { country: people for (country, people) in population.items() if people > 20 }\n",
    "result"
   ]
  },
  {
   "cell_type": "code",
   "execution_count": 36,
   "id": "8c8ed9ed-2c02-4da5-8659-031c52b6072d",
   "metadata": {},
   "outputs": [
    {
     "data": {
      "text/plain": [
       "{'o': 'O', 'a': 'A', 'u': 'U', 'i': 'I'}"
      ]
     },
     "execution_count": 36,
     "metadata": {},
     "output_type": "execute_result"
    }
   ],
   "source": [
    "# Another example with strings (iterable)\n",
    "\n",
    "text = 'Hola, soy Juanpita'\n",
    "unique = { c: c.upper() for c in text if c in 'aeiou' }\n",
    "unique"
   ]
  },
  {
   "cell_type": "markdown",
   "id": "ebfba020-8847-4bfc-bc42-262547ec9b2a",
   "metadata": {},
   "source": [
    "### Lists vs. Tuples vs. Sets"
   ]
  },
  {
   "cell_type": "code",
   "execution_count": 37,
   "id": "42ebfa8c-655d-4ec0-99e0-346d299c1ab5",
   "metadata": {},
   "outputs": [
    {
     "data": {
      "text/html": [
       "<div>\n",
       "<style scoped>\n",
       "    .dataframe tbody tr th:only-of-type {\n",
       "        vertical-align: middle;\n",
       "    }\n",
       "\n",
       "    .dataframe tbody tr th {\n",
       "        vertical-align: top;\n",
       "    }\n",
       "\n",
       "    .dataframe thead th {\n",
       "        text-align: right;\n",
       "    }\n",
       "</style>\n",
       "<table border=\"1\" class=\"dataframe\">\n",
       "  <thead>\n",
       "    <tr style=\"text-align: right;\">\n",
       "      <th></th>\n",
       "      <th>Mutable</th>\n",
       "      <th>Sorted</th>\n",
       "      <th>Indexable/Sliceable</th>\n",
       "      <th>Duplicates</th>\n",
       "    </tr>\n",
       "  </thead>\n",
       "  <tbody>\n",
       "    <tr>\n",
       "      <th>List</th>\n",
       "      <td>True</td>\n",
       "      <td>True</td>\n",
       "      <td>True</td>\n",
       "      <td>True</td>\n",
       "    </tr>\n",
       "    <tr>\n",
       "      <th>Tuple</th>\n",
       "      <td>False</td>\n",
       "      <td>True</td>\n",
       "      <td>True</td>\n",
       "      <td>True</td>\n",
       "    </tr>\n",
       "    <tr>\n",
       "      <th>Set</th>\n",
       "      <td>True</td>\n",
       "      <td>False</td>\n",
       "      <td>False</td>\n",
       "      <td>False</td>\n",
       "    </tr>\n",
       "  </tbody>\n",
       "</table>\n",
       "</div>"
      ],
      "text/plain": [
       "       Mutable  Sorted  Indexable/Sliceable  Duplicates\n",
       "List      True    True                 True        True\n",
       "Tuple    False    True                 True        True\n",
       "Set       True   False                False       False"
      ]
     },
     "execution_count": 37,
     "metadata": {},
     "output_type": "execute_result"
    }
   ],
   "source": [
    "# Comparison among Lists, tuples and Sets\n",
    "\n",
    "import pandas as pd\n",
    "\n",
    "data = {'Mutable': [True, False, True],\n",
    "        'Sorted': [True, True, False],\n",
    "        'Indexable/Sliceable': [True, True, False],\n",
    "        'Duplicates': [True, True, False]\n",
    "       }\n",
    "\n",
    "comparison = pd.DataFrame(data, index = ['List', 'Tuple', 'Set'])\n",
    "comparison.head()"
   ]
  },
  {
   "cell_type": "markdown",
   "id": "d89b42ec-4a94-421e-9d4d-3d77c4c7126f",
   "metadata": {},
   "source": [
    "### Functions"
   ]
  },
  {
   "cell_type": "code",
   "execution_count": 39,
   "id": "955a5e2a-f090-4024-929c-7861306ed089",
   "metadata": {},
   "outputs": [
    {
     "name": "stdout",
     "output_type": "stream",
     "text": [
      "My argument is Hello, world\n",
      "My argument is 32\n",
      "My argument is        Mutable  Sorted  Indexable/Sliceable  Duplicates\n",
      "List      True    True                 True        True\n",
      "Tuple    False    True                 True        True\n",
      "Set       True   False                False       False\n",
      "My argument is {'Juan': 39, 'Geral': 32, 'Danger': 7}\n"
     ]
    }
   ],
   "source": [
    "# Structure of a function: (reserved keyword)(funciton name)(arguments): (function body)\n",
    "\n",
    "def my_print(arg):\n",
    "    print(f'My argument is {arg}')\n",
    "\n",
    "my_print('Hello, world')\n",
    "my_print(32)\n",
    "my_print(comparison)\n",
    "my_print(new_dict)"
   ]
  },
  {
   "cell_type": "code",
   "execution_count": 41,
   "id": "7565ecaf-ba2f-42f3-af99-5527cd05ffbb",
   "metadata": {},
   "outputs": [
    {
     "name": "stdout",
     "output_type": "stream",
     "text": [
      "The result of my first sum funtion is: 5\n"
     ]
    }
   ],
   "source": [
    "# A function may return a value instead of just executing the print function to show it\n",
    "\n",
    "def sum (a,b):\n",
    "    c = a + b\n",
    "    return c\n",
    "\n",
    "my_result = sum(2, 3)\n",
    "print(f'The result of my first sum funtion is: {my_result}')"
   ]
  },
  {
   "cell_type": "code",
   "execution_count": 43,
   "id": "96b9cc23-2435-4787-9b78-5cba08e75689",
   "metadata": {},
   "outputs": [
    {
     "name": "stdout",
     "output_type": "stream",
     "text": [
      "The result of my shorter sum function is: 42\n"
     ]
    }
   ],
   "source": [
    "def sum (d,e):\n",
    "# Directly resulting instead of assigning the sum to another variable\n",
    "    return(d + e)\n",
    "\n",
    "my_result_2 = sum(37, 5)\n",
    "print(f'The result of my shorter sum function is: {my_result}')"
   ]
  },
  {
   "cell_type": "code",
   "execution_count": 47,
   "id": "09a59239-8a87-46de-af1c-fc59d46dc3a0",
   "metadata": {},
   "outputs": [
    {
     "name": "stdout",
     "output_type": "stream",
     "text": [
      "32\n"
     ]
    }
   ],
   "source": [
    "# Double function nesting: Print function receives what the outer sum returns, and that sum receives two sum functions as their parameters.\n",
    "\n",
    "print(sum(sum(9,5), sum(8,10)))"
   ]
  },
  {
   "cell_type": "code",
   "execution_count": 53,
   "id": "9dab0ff0-6d98-41ce-aef6-8fcf501f5789",
   "metadata": {},
   "outputs": [
    {
     "name": "stdout",
     "output_type": "stream",
     "text": [
      "(24, 'height is 2, width is 3, depth is 4')\n",
      "(1, 'height is 1, width is 1, depth is 1')\n",
      "(36, 'height is 9, width is 4, depth is 1')\n",
      "24\n"
     ]
    }
   ],
   "source": [
    "# Function with multiple returns\n",
    "\n",
    "def find_volume(h = 1, w = 1, d = 1):\n",
    "    return(h*w*d, f'height is {h}, width is {w}, depth is {d}')\n",
    "\n",
    "my_volume1 = find_volume(2,3,4)\n",
    "my_volume2 = find_volume()\n",
    "my_volume3 = find_volume(h = 9, w = 4)\n",
    "\n",
    "print(my_volume1)\n",
    "print(my_volume2)\n",
    "print(my_volume3)\n",
    "print(my_volume1[0])\n",
    "volume, description = find_volume(10,20,30)\n"
   ]
  },
  {
   "cell_type": "code",
   "execution_count": 54,
   "id": "60ebd058-3c64-44a6-9982-ed5a2918c8fa",
   "metadata": {},
   "outputs": [
    {
     "name": "stdout",
     "output_type": "stream",
     "text": [
      "6000\n",
      "height is 10, width is 20, depth is 30\n"
     ]
    }
   ],
   "source": [
    "print(volume)\n",
    "print(description)"
   ]
  },
  {
   "cell_type": "markdown",
   "id": "b262540f-cc9b-451d-b52f-c503e3e5aab8",
   "metadata": {},
   "source": [
    "\n",
    "### Variable scope"
   ]
  },
  {
   "cell_type": "code",
   "execution_count": null,
   "id": "59e5ac9e-d2f9-44cf-b0d3-c16508d85bd2",
   "metadata": {},
   "outputs": [],
   "source": [
    "'''\n",
    "Stands for where a variable can be used. If a variable is declared within a control structure, cycle or function, the variable can only\n",
    "be used there. if it is declared outside (in it's nesting structure or in the base of the application), it will have the scope of\n",
    "the parent structure and all their nested ones.\n",
    "'''\n",
    "\n",
    "\n"
   ]
  }
 ],
 "metadata": {
  "kernelspec": {
   "display_name": "Python 3 (ipykernel)",
   "language": "python",
   "name": "python3"
  },
  "language_info": {
   "codemirror_mode": {
    "name": "ipython",
    "version": 3
   },
   "file_extension": ".py",
   "mimetype": "text/x-python",
   "name": "python",
   "nbconvert_exporter": "python",
   "pygments_lexer": "ipython3",
   "version": "3.9.6"
  }
 },
 "nbformat": 4,
 "nbformat_minor": 5
}
